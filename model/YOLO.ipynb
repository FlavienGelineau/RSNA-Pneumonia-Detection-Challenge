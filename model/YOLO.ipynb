{
 "cells": [
  {
   "cell_type": "code",
   "execution_count": 4,
   "metadata": {
    "collapsed": true
   },
   "outputs": [],
   "source": [
    "from contextlib import contextmanager\n",
    "import math\n",
    "import os\n",
    "import shutil\n",
    "import sys\n",
    "\n",
    "import numpy as np\n",
    "import pandas as pd\n",
    "import matplotlib.pyplot as plt\n",
    "import seaborn as sns\n",
    "import glob\n",
    "import pydicom\n",
    "import cv2\n",
    "from sklearn.model_selection import train_test_split\n",
    "from tqdm import tqdm"
   ]
  },
  {
   "cell_type": "code",
   "execution_count": 5,
   "metadata": {},
   "outputs": [],
   "source": [
    "random_stat = 123\n",
    "np.random.seed(random_stat)"
   ]
  },
  {
   "cell_type": "code",
   "execution_count": 7,
   "metadata": {
    "collapsed": false
   },
   "outputs": [
    {
     "name": "stdout",
     "output_type": "stream",
     "text": [
      "fatal: destination path 'darknet' already exists and is not an empty directory.\r\n"
     ]
    },
    {
     "name": "stdout",
     "output_type": "stream",
     "text": [
      "/bin/sh: 1: nvcc: not found\r\nMakefile:92: recipe for target 'obj/convolutional_kernels.o' failed\r\nmake: *** [obj/convolutional_kernels.o] Error 127\r\nmake: *** Waiting for unfinished jobs....\r\n/bin/sh: 1: /bin/sh: 1: /bin/sh: 1: nvcc: not found\r\nMakefile:92: recipe for target 'obj/deconvolutional_kernels.o' failed\r\nmake: *** [obj/deconvolutional_kernels.o] Error 127\r\n"
     ]
    },
    {
     "name": "stdout",
     "output_type": "stream",
     "text": [
      "nvcc: not found\r\nMakefile:92: recipe for target 'obj/activation_kernels.o' failed\r\nmake: *** [obj/activation_kernels.o] Error 127\r\nnvcc: not found\r\nMakefile:92: recipe for target 'obj/im2col_kernels.o' failed\r\nmake: *** [obj/im2col_kernels.o] Error 127\r\n"
     ]
    },
    {
     "name": "stdout",
     "output_type": "stream",
     "text": [
      "cp: cannot stat 'darknet/darknet': No such file or directory\r\n"
     ]
    },
    {
     "name": "stdout",
     "output_type": "stream",
     "text": [
      "cp: cannot stat 'darknet/libdarknet.so': No such file or directory\r\n"
     ]
    }
   ],
   "source": [
    "!git clone https://github.com/pjreddie/darknet.git\n",
    "!cd darknet && sed '1 s/^.*$/GPU=1/; 2 s/^.*$/CUDNN=1/' -i Makefile \n",
    "!cd darknet && make -j 50 -s\n",
    "!cp darknet/darknet darknet_gpu\n",
    "!cp darknet/libdarknet.so libdarknet.so"
   ]
  },
  {
   "cell_type": "code",
   "execution_count": 10,
   "metadata": {},
   "outputs": [],
   "source": [
    "DATA_DIR = \"../data/preprocessed_input\"\n",
    "\n",
    "train_dcm_dir = os.path.join(DATA_DIR, \"stage_1_train_images\")\n",
    "test_dcm_dir = os.path.join(DATA_DIR, \"stage_1_test_images\")\n",
    "\n",
    "img_dir = os.path.join(os.getcwd(), \"images\")  # .jpg\n",
    "label_dir = os.path.join(os.getcwd(), \"labels\")  # .txt\n",
    "metadata_dir = os.path.join(os.getcwd(), \"metadata\") # .txt\n",
    "\n",
    "\n",
    "cfg_dir = os.path.join(os.getcwd(), \"cfg\")\n",
    "backup_dir = os.path.join(os.getcwd(), \"backup\")\n",
    "# submit_file_dir = os.path.join(os.getcwd(), \"submit\")\n",
    "\n",
    "for directory in [img_dir, label_dir, metadata_dir, cfg_dir, backup_dir]:\n",
    "    if os.path.isdir(directory):\n",
    "        continue\n",
    "    os.mkdir(directory)\n"
   ]
  },
  {
   "cell_type": "code",
   "execution_count": 12,
   "metadata": {
    "collapsed": false
   },
   "outputs": [
    {
     "name": "stdout",
     "output_type": "stream",
     "text": [
      "total 6,5M\r\n4,0K model     4,0K darknet\t\t\t 4,0K data_visualization\r\n4,0K backup    4,0K meta_data_processing\t 6,4M kernel.ipynb\r\n4,0K cfg       4,0K data_processing\t\t    0 requirements.txt\r\n4,0K labels    4,0K __pycache__\t\t\t 4,0K utils.ipy\r\n4,0K metadata  4,0K paths.py\t\t\t 4,0K data\r\n4,0K images    4,0K check_validation_results.py  4,0K README.md\r\n"
     ]
    }
   ],
   "source": [
    "!ls -sht"
   ]
  },
  {
   "cell_type": "code",
   "execution_count": 15,
   "metadata": {},
   "outputs": [
    {
     "data": {
      "text/plain": [
       "'/home/flavien/Desktop/kaggle_projects/RSNA-Pneumonia-Detection-Challenge/cfg'"
      ]
     },
     "execution_count": 15,
     "metadata": {},
     "output_type": "execute_result"
    }
   ],
   "source": [
    "cfg_dir"
   ]
  },
  {
   "cell_type": "code",
   "execution_count": null,
   "metadata": {},
   "outputs": [],
   "source": []
  }
 ],
 "metadata": {
  "kernelspec": {
   "display_name": "Python 2",
   "language": "python",
   "name": "python2"
  },
  "language_info": {
   "codemirror_mode": {
    "name": "ipython",
    "version": 2
   },
   "file_extension": ".py",
   "mimetype": "text/x-python",
   "name": "python",
   "nbconvert_exporter": "python",
   "pygments_lexer": "ipython2",
   "version": "2.7.6"
  }
 },
 "nbformat": 4,
 "nbformat_minor": 0
}
